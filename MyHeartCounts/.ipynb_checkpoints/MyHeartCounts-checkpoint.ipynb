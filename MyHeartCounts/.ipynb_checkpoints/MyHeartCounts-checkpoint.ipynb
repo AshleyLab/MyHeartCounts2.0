{
 "cells": [
  {
   "cell_type": "code",
   "execution_count": null,
   "id": "cfaf30a8",
   "metadata": {},
   "outputs": [],
   "source": []
  },
  {
   "cell_type": "code",
   "execution_count": 45,
   "id": "196dadaf",
   "metadata": {},
   "outputs": [
    {
     "name": "stdout",
     "output_type": "stream",
     "text": [
      "Retrieving user data. This may take some time if cache is empty.\n",
      "Retrieving study data. This may take some time if cache is empty.\n",
      "Complete. 10\n"
     ]
    }
   ],
   "source": [
    "\n",
    "##############################\n",
    "# author: Ali Javed\n",
    "# October 3 Febuary 2022\n",
    "# Description: Scripts demonstrates how to use the MyHeartCounts Python package.\n",
    "# email: ajaved@stanford.edu; alijaved@live.com\n",
    "#############################\n",
    "\n",
    "\n",
    "\n",
    "#import libraries\n",
    "from MyHeartCounts import MyHeartCounts\n",
    "import warnings\n",
    "import time\n",
    "warnings.filterwarnings(\"ignore\")\n",
    "#start timer\n",
    "start = time.time()\n",
    "\n",
    "\n",
    "\n",
    "        \n",
    "\n",
    "##############################\n",
    "#set parameters\n",
    "#Path to Username Password file. Replace the path with path to the file that has your synapse credentials. Put the username in first line and password in second.\n",
    "f=open(\"../../synapseAccess.txt\",\"r\")\n",
    "lines=f.readlines()\n",
    "synapseUsername=lines[0].strip()\n",
    "synapsePassword=lines[1].strip()\n",
    "f.close()\n",
    "\n",
    "#Synapse Cache path. Set cache path or leave empty for default value\n",
    "#Normally we set all the parameters of the script here, but for this presentation tutorial the values are at the location they are used. \n",
    "#all parameters set\n",
    "##############################\n",
    "\n",
    "\n",
    "\n",
    "#Initilize a MyHeartCounts object\n",
    "MHC = MyHeartCounts(synapseUsername, synapsePassword, synapseCachePath = '/Users/ajaved/Three/MHC_DataBase/code/synapseCache')\n",
    "#retrieve users from demographics tables of synapse#this line is not needed.\n",
    "MHC.start()\n",
    "#load a study\n",
    "MHC.loadStudy(studyName = 'HealthKitWorkoutCollector',studyTable = 'syn3560095')\n",
    "\n",
    "\n",
    "\n",
    "#calculate time\n",
    "end= time.time()\n",
    "difference = int(end - start)\n",
    "print('Complete. '+str(difference))"
   ]
  },
  {
   "cell_type": "code",
   "execution_count": 46,
   "id": "33e9efdb",
   "metadata": {},
   "outputs": [],
   "source": [
    "#get list of users\n",
    "users = MHC.get_users()\n",
    "\n",
    "#get studies\n",
    "studies = MHC.get_studies()"
   ]
  },
  {
   "cell_type": "code",
   "execution_count": 37,
   "id": "75942bad",
   "metadata": {},
   "outputs": [
    {
     "data": {
      "text/plain": [
       "'GP5EmY5Yph_vvTqqBQhKU4A_'"
      ]
     },
     "execution_count": 37,
     "metadata": {},
     "output_type": "execute_result"
    }
   ],
   "source": [
    "users[0].healthCode"
   ]
  },
  {
   "cell_type": "code",
   "execution_count": 43,
   "id": "dc3de45e",
   "metadata": {},
   "outputs": [
    {
     "data": {
      "text/plain": [
       "'HealthKitWorkoutCollector'"
      ]
     },
     "execution_count": 43,
     "metadata": {},
     "output_type": "execute_result"
    }
   ],
   "source": [
    "studies[0].studyName"
   ]
  },
  {
   "cell_type": "code",
   "execution_count": null,
   "id": "7d9a26f7",
   "metadata": {},
   "outputs": [],
   "source": [
    "#Load a study. Name the study (usually table name), and study table to retrieve data from synapse.\n",
    "MHC.loadStudy(studyName = 'Satisfied',studyTable = 'syn4857042')\n",
    "#all parameters set\n",
    "##############################"
   ]
  },
  {
   "cell_type": "code",
   "execution_count": 40,
   "id": "405292d6",
   "metadata": {},
   "outputs": [
    {
     "data": {
      "text/plain": [
       "['__class__',\n",
       " '__delattr__',\n",
       " '__dict__',\n",
       " '__dir__',\n",
       " '__doc__',\n",
       " '__eq__',\n",
       " '__format__',\n",
       " '__ge__',\n",
       " '__getattribute__',\n",
       " '__gt__',\n",
       " '__hash__',\n",
       " '__init__',\n",
       " '__init_subclass__',\n",
       " '__le__',\n",
       " '__lt__',\n",
       " '__module__',\n",
       " '__ne__',\n",
       " '__new__',\n",
       " '__reduce__',\n",
       " '__reduce_ex__',\n",
       " '__repr__',\n",
       " '__setattr__',\n",
       " '__sizeof__',\n",
       " '__str__',\n",
       " '__subclasshook__',\n",
       " '__weakref__',\n",
       " 'bloodType',\n",
       " 'createdOn',\n",
       " 'daysInStudy',\n",
       " 'dob',\n",
       " 'gender',\n",
       " 'healthCode',\n",
       " 'height',\n",
       " 'set_attributes',\n",
       " 'skinType',\n",
       " 'weight']"
      ]
     },
     "execution_count": 40,
     "metadata": {},
     "output_type": "execute_result"
    }
   ],
   "source": [
    "dir(users[0])"
   ]
  },
  {
   "cell_type": "code",
   "execution_count": 30,
   "id": "53f86f78",
   "metadata": {},
   "outputs": [
    {
     "data": {
      "text/plain": [
       "['__class__',\n",
       " '__delattr__',\n",
       " '__dict__',\n",
       " '__dir__',\n",
       " '__doc__',\n",
       " '__eq__',\n",
       " '__format__',\n",
       " '__ge__',\n",
       " '__getattribute__',\n",
       " '__gt__',\n",
       " '__hash__',\n",
       " '__init__',\n",
       " '__init_subclass__',\n",
       " '__le__',\n",
       " '__lt__',\n",
       " '__module__',\n",
       " '__ne__',\n",
       " '__new__',\n",
       " '__reduce__',\n",
       " '__reduce_ex__',\n",
       " '__repr__',\n",
       " '__setattr__',\n",
       " '__sizeof__',\n",
       " '__str__',\n",
       " '__subclasshook__',\n",
       " '__weakref__',\n",
       " 'add_observation',\n",
       " 'do_HealthKitWorkoutCollector',\n",
       " 'observations',\n",
       " 'parse_all_observations',\n",
       " 'parse_observation',\n",
       " 'refresh_studyUsers',\n",
       " 'studyName',\n",
       " 'studyTable',\n",
       " 'studyUsers']"
      ]
     },
     "execution_count": 30,
     "metadata": {},
     "output_type": "execute_result"
    }
   ],
   "source": [
    "dir(studies[0])"
   ]
  },
  {
   "cell_type": "code",
   "execution_count": 29,
   "id": "284f361b",
   "metadata": {},
   "outputs": [
    {
     "data": {
      "text/plain": [
       "'HealthKitWorkoutCollector'"
      ]
     },
     "execution_count": 29,
     "metadata": {},
     "output_type": "execute_result"
    }
   ],
   "source": [
    "studies[0]."
   ]
  },
  {
   "cell_type": "code",
   "execution_count": null,
   "id": "5c1aaf0b",
   "metadata": {},
   "outputs": [],
   "source": []
  }
 ],
 "metadata": {
  "kernelspec": {
   "display_name": "Python 3 (ipykernel)",
   "language": "python",
   "name": "python3"
  },
  "language_info": {
   "codemirror_mode": {
    "name": "ipython",
    "version": 3
   },
   "file_extension": ".py",
   "mimetype": "text/x-python",
   "name": "python",
   "nbconvert_exporter": "python",
   "pygments_lexer": "ipython3",
   "version": "3.9.7"
  }
 },
 "nbformat": 4,
 "nbformat_minor": 5
}
