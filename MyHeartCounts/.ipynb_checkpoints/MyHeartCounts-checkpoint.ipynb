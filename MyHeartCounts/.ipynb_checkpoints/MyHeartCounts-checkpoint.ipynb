{
 "cells": [
  {
   "cell_type": "markdown",
   "id": "f5dc8248",
   "metadata": {},
   "source": [
    "Script demonstrates My Heart Counts Python package"
   ]
  },
  {
   "cell_type": "code",
   "execution_count": 10,
   "id": "196dadaf",
   "metadata": {},
   "outputs": [
    {
     "ename": "TypeError",
     "evalue": "__init__() missing 1 required positional argument: 'synapseCachePath'",
     "output_type": "error",
     "traceback": [
      "\u001b[0;31m---------------------------------------------------------------------------\u001b[0m",
      "\u001b[0;31mTypeError\u001b[0m                                 Traceback (most recent call last)",
      "\u001b[0;32m/var/folders/d1/lv0g8ftd1jv0qt12q5xkjmdw0000gq/T/ipykernel_4501/1753788582.py\u001b[0m in \u001b[0;36m<module>\u001b[0;34m\u001b[0m\n\u001b[1;32m      4\u001b[0m \u001b[0;34m\u001b[0m\u001b[0m\n\u001b[1;32m      5\u001b[0m \u001b[0;31m#Initilize a MyHeartCounts object\u001b[0m\u001b[0;34m\u001b[0m\u001b[0;34m\u001b[0m\u001b[0m\n\u001b[0;32m----> 6\u001b[0;31m \u001b[0mMHC\u001b[0m \u001b[0;34m=\u001b[0m \u001b[0mMyHeartCounts\u001b[0m\u001b[0;34m(\u001b[0m\u001b[0muser_password_file_path\u001b[0m \u001b[0;34m=\u001b[0m \u001b[0;34m'../../synapseAccess.txt'\u001b[0m\u001b[0;34m)\u001b[0m\u001b[0;34m\u001b[0m\u001b[0;34m\u001b[0m\u001b[0m\n\u001b[0m\u001b[1;32m      7\u001b[0m \u001b[0;34m\u001b[0m\u001b[0m\n\u001b[1;32m      8\u001b[0m \u001b[0;31m#Rev up your engine!!\u001b[0m\u001b[0;34m\u001b[0m\u001b[0;34m\u001b[0m\u001b[0m\n",
      "\u001b[0;31mTypeError\u001b[0m: __init__() missing 1 required positional argument: 'synapseCachePath'"
     ]
    }
   ],
   "source": [
    "#import libraries\n",
    "from MyHeartCounts import MyHeartCounts\n",
    "##############################\n",
    "\n",
    "#Initilize a MyHeartCounts object\n",
    "MHC = MyHeartCounts(user_password_file_path = '../../synapseAccess.txt')\n",
    "\n",
    "#Rev up your engine!!\n",
    "MHC.start()\n",
    "#load a study\n",
    "MHC.loadStudy(studyName = 'HealthKitWorkoutCollector',studyTable = 'syn3560095')\n"
   ]
  },
  {
   "cell_type": "code",
   "execution_count": null,
   "id": "2c7e39be",
   "metadata": {},
   "outputs": [],
   "source": []
  }
 ],
 "metadata": {
  "kernelspec": {
   "display_name": "Python 3 (ipykernel)",
   "language": "python",
   "name": "python3"
  },
  "language_info": {
   "codemirror_mode": {
    "name": "ipython",
    "version": 3
   },
   "file_extension": ".py",
   "mimetype": "text/x-python",
   "name": "python",
   "nbconvert_exporter": "python",
   "pygments_lexer": "ipython3",
   "version": "3.9.7"
  }
 },
 "nbformat": 4,
 "nbformat_minor": 5
}
