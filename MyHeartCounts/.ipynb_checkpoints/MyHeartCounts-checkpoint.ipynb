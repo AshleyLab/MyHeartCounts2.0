{
 "cells": [
  {
   "cell_type": "markdown",
   "id": "98c72aa4",
   "metadata": {},
   "source": [
    "Script demonstrates My Heart Counts Python package"
   ]
  },
  {
   "cell_type": "code",
   "execution_count": 5,
   "id": "196dadaf",
   "metadata": {},
   "outputs": [],
   "source": [
    "#import libraries\n",
    "from MyHeartCounts import MyHeartCounts\n",
    "##############################\n",
    "\n",
    "#Initilize a MyHeartCounts object\n",
    "MHC = MyHeartCounts(user_password_file_path = '../../synapseAccess.txt', synapseCachePath = '/Users/ajaved/Three/MHC_DataBase/code/synapseCache')\n",
    "#Rev up your engine!!\n",
    "MHC.start()\n"
   ]
  },
  {
   "cell_type": "code",
   "execution_count": 6,
   "id": "c7886fc3",
   "metadata": {},
   "outputs": [
    {
     "data": {
      "text/plain": [
       "True"
      ]
     },
     "execution_count": 6,
     "metadata": {},
     "output_type": "execute_result"
    }
   ],
   "source": [
    "#load a study\n",
    "MHC.loadStudy(studyName = 'HealthKitWorkoutCollector',studyTable = 'syn3560095')"
   ]
  },
  {
   "cell_type": "markdown",
   "id": "9e61cd9d",
   "metadata": {},
   "source": [
    "Explain study obj and user obj here, and then access them, and then load another study. Put image of architecture on top. "
   ]
  },
  {
   "cell_type": "code",
   "execution_count": 13,
   "id": "7d9a26f7",
   "metadata": {},
   "outputs": [
    {
     "name": "stdout",
     "output_type": "stream",
     "text": [
      "Retrieving study data. This may take some time if cache is empty.\n"
     ]
    },
    {
     "data": {
      "text/plain": [
       "True"
      ]
     },
     "execution_count": 13,
     "metadata": {},
     "output_type": "execute_result"
    }
   ],
   "source": [
    "#Load an other study.\n",
    "MHC.loadStudy(studyName = 'Satisfied',studyTable = 'syn4857042')"
   ]
  },
  {
   "cell_type": "code",
   "execution_count": null,
   "id": "5c1aaf0b",
   "metadata": {},
   "outputs": [],
   "source": []
  }
 ],
 "metadata": {
  "kernelspec": {
   "display_name": "Python 3 (ipykernel)",
   "language": "python",
   "name": "python3"
  },
  "language_info": {
   "codemirror_mode": {
    "name": "ipython",
    "version": 3
   },
   "file_extension": ".py",
   "mimetype": "text/x-python",
   "name": "python",
   "nbconvert_exporter": "python",
   "pygments_lexer": "ipython3",
   "version": "3.9.7"
  }
 },
 "nbformat": 4,
 "nbformat_minor": 5
}
