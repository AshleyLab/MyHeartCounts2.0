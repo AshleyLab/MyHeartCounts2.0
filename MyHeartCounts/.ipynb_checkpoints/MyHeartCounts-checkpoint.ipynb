{
 "cells": [
  {
   "cell_type": "code",
   "execution_count": null,
   "id": "22e1c59f",
   "metadata": {},
   "outputs": [],
   "source": [
    "##############################################\n",
    "#Welcome to My Heart Counts Python Acess for ML\n",
    "##############################################W"
   ]
  },
  {
   "cell_type": "code",
   "execution_count": 1,
   "id": "a5365817",
   "metadata": {},
   "outputs": [
    {
     "name": "stdout",
     "output_type": "stream",
     "text": [
      "Retrieving user data. This may take some time if cache is empty.\n",
      "Retrieving study data. This may take some time if cache is empty.\n",
      "Data retrival, loading, cleaning and parsing complete in 11 seconds.\n"
     ]
    }
   ],
   "source": [
    "\n",
    "##############################\n",
    "# author: Ali Javed\n",
    "# October 3 Febuary 2022\n",
    "# Description: Scripts demonstrates how to use the MyHeartCounts Python package.\n",
    "# email: ajaved@stanford.edu; alijaved@live.com\n",
    "#############################\n",
    "\n",
    "\n",
    "\n",
    "#import libraries\n",
    "from MyHeartCounts import MyHeartCounts\n",
    "import warnings\n",
    "import time\n",
    "warnings.filterwarnings(\"ignore\")\n",
    "#start timer\n",
    "start = time.time()\n",
    "\n",
    "\n",
    "\n",
    "        \n",
    "\n",
    "##############################\n",
    "#set parameters\n",
    "#Path to Username Password file. Replace the path with path to the file that has your synapse credentials. Put the username in first line and password in second.\n",
    "f=open(\"../../synapseAccess.txt\",\"r\")\n",
    "lines=f.readlines()\n",
    "synapseUsername=lines[0].strip()\n",
    "synapsePassword=lines[1].strip()\n",
    "f.close()\n",
    "\n",
    "#Synapse Cache path. Set cache path or leave empty for default value\n",
    "synapseCachePath = '/Users/ajaved/Three/MHC_DataBase/code/synapseCache'\n",
    "\n",
    "#Load a study. Name the study (usually table name), and study table to retrieve data from synapse.\n",
    "studyName = 'HealthKitWorkoutCollector'\n",
    "studyTable = 'syn3560095'\n",
    "#all parameters set\n",
    "##############################\n",
    "\n",
    "\n",
    "\n",
    "#Initilize a MyHeartCounts object\n",
    "MHC = MyHeartCounts(synapseUsername, synapsePassword, synapseCachePath = synapseCachePath )\n",
    "#retrieve users from demographics tables of synapse\n",
    "MHC.retrieveAllUsers()\n",
    "MHC.loadStudy(studyName,studyTable)\n",
    "\n",
    "#get list of users\n",
    "#users = MHC.get_users()\n",
    "\n",
    "#get studies\n",
    "#studies = MHC.get_studies()\n",
    "\n",
    "#calculate time\n",
    "end= time.time()\n",
    "difference = int(end - start)\n",
    "print('Data retrival, loading, cleaning and parsing complete in '+str(difference)+' seconds.')"
   ]
  },
  {
   "cell_type": "code",
   "execution_count": null,
   "id": "d0109267",
   "metadata": {},
   "outputs": [],
   "source": []
  }
 ],
 "metadata": {
  "kernelspec": {
   "display_name": "Python 3 (ipykernel)",
   "language": "python",
   "name": "python3"
  },
  "language_info": {
   "codemirror_mode": {
    "name": "ipython",
    "version": 3
   },
   "file_extension": ".py",
   "mimetype": "text/x-python",
   "name": "python",
   "nbconvert_exporter": "python",
   "pygments_lexer": "ipython3",
   "version": "3.9.7"
  }
 },
 "nbformat": 4,
 "nbformat_minor": 5
}
