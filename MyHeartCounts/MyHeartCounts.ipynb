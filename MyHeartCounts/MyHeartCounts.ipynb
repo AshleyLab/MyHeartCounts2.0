{
 "cells": [
  {
   "cell_type": "markdown",
   "id": "f5dc8248",
   "metadata": {},
   "source": [
    "## My Heart Counts Machine Learning Infrastructure\n",
    "This jupyter notebook demonstrates the use of My Heart Counts machine learning infrastructure.\n",
    "    \n",
    "# Architecture ER diagram\n",
    "\n",
    "![alt text here](../images/MyHeartCounts_ML_Pipeline_architecture.png)\n",
    "\n",
    "\n",
    "\n",
    "\n",
    "#Usage\n",
    "\n",
    "Install the MyHeart"
   ]
  },
  {
   "cell_type": "code",
   "execution_count": 10,
   "id": "196dadaf",
   "metadata": {},
   "outputs": [],
   "source": [
    "#import libraries\n",
    "from MyHeartCounts import MyHeartCounts\n",
    "##############################\n",
    "\n",
    "#Initilize a MyHeartCounts object\n",
    "MHC = MyHeartCounts(user_password_file_path = '../../synapseAccess.txt')\n",
    "#Rev up your engine!!\n",
    "MHC.start()"
   ]
  },
  {
   "cell_type": "markdown",
   "id": "13d3d270",
   "metadata": {},
   "source": [
    "#Explain User object\n",
    "#And Explain study object.\n",
    "#Explain User object"
   ]
  },
  {
   "cell_type": "code",
   "execution_count": 11,
   "id": "2c7e39be",
   "metadata": {},
   "outputs": [],
   "source": [
    "#load a study\n",
    "MHC.loadStudy(studyName = 'HealthKitWorkoutCollector',studyTable = 'syn3560095')"
   ]
  },
  {
   "cell_type": "code",
   "execution_count": null,
   "id": "c9278915",
   "metadata": {},
   "outputs": [],
   "source": []
  },
  {
   "cell_type": "markdown",
   "id": "5a67396c",
   "metadata": {},
   "source": [
    "Have fun here..."
   ]
  },
  {
   "cell_type": "code",
   "execution_count": null,
   "id": "3662b702",
   "metadata": {},
   "outputs": [],
   "source": []
  }
 ],
 "metadata": {
  "kernelspec": {
   "display_name": "Python 3 (ipykernel)",
   "language": "python",
   "name": "python3"
  },
  "language_info": {
   "codemirror_mode": {
    "name": "ipython",
    "version": 3
   },
   "file_extension": ".py",
   "mimetype": "text/x-python",
   "name": "python",
   "nbconvert_exporter": "python",
   "pygments_lexer": "ipython3",
   "version": "3.9.7"
  }
 },
 "nbformat": 4,
 "nbformat_minor": 5
}
