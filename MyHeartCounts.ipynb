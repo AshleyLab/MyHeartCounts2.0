{
 "cells": [
  {
   "cell_type": "markdown",
   "id": "f5dc8248",
   "metadata": {},
   "source": [
    "## My Heart Counts Machine Learning Infrastructure\n",
    "This jupyter notebook demonstrates the use of My Heart Counts machine learning infrastructure.\n",
    "    \n",
    "# Architecture ER diagram\n",
    "\n",
    "![alt text here](tutorial_docs/MyHeartCounts_ML_Pipeline_architecture.png)\n",
    "\n",
    "\n",
    "\n",
    "\n",
    "# Usage\n",
    "\n",
    "pip install MyHeartCounts\n",
    "\n",
    "The MyHeartCounts Python package will set up access to Synapse and Amazon Web Services. \n",
    "\n",
    "Inputs:\n",
    "1. Plain text file with synapse credentials. Username in the first line and Password in the second. For example.\n",
    "\n",
    "alijaved<br>\n",
    "thisismypassword\n",
    "\n"
   ]
  },
  {
   "cell_type": "code",
   "execution_count": 6,
   "id": "196dadaf",
   "metadata": {},
   "outputs": [
    {
     "name": "stdout",
     "output_type": "stream",
     "text": [
      "MHC ML Infrastructure up and running...\n"
     ]
    }
   ],
   "source": [
    "#import libraries\n",
    "from MyHeartCounts import MyHeartCounts\n",
    "##############################\n",
    "\n",
    "#Initilize a MyHeartCounts object\n",
    "MHC = MyHeartCounts(user_password_file_path = 'synapseAccess.txt')\n",
    "#Rev up your engine!! -- Setting up of cache and other administrative scripts\n",
    "MHC.start()\n",
    "print('MHC ML Infrastructure up and running...')"
   ]
  },
  {
   "cell_type": "markdown",
   "id": "30d52a11",
   "metadata": {},
   "source": [
    "The MHC Object has metadata on all users. List of users can be accessed by MHC.Users. Let us see the data for first user. "
   ]
  },
  {
   "cell_type": "code",
   "execution_count": 26,
   "id": "3487e161",
   "metadata": {},
   "outputs": [
    {
     "name": "stdout",
     "output_type": "stream",
     "text": [
      "User health code is GP5EmY5Yph_vvTqqBQhKU4A_\n",
      "User gender code is female\n",
      "User date of birth code is 1800-10-05 18:00:00\n"
     ]
    }
   ],
   "source": [
    "print('User health code is '+MHC.Users[0].healthCode)\n",
    "print('User gender code is '+MHC.Users[0].gender)\n",
    "print('User date of birth code is '+str(MHC.Users[0].dob))"
   ]
  },
  {
   "cell_type": "markdown",
   "id": "edbe1be3",
   "metadata": {},
   "source": [
    "You can see the date of birth is 1800-10-05. This is set on purpose to tackle missing data with known values. These can later be filled using machine learning predictions. "
   ]
  },
  {
   "cell_type": "markdown",
   "id": "13d3d270",
   "metadata": {},
   "source": [
    "## Study\n",
    "\n",
    "Once we have all the users. These users participate in studies. A study is object containing information for a particular study or table. For example, the 6 minute walk test, mindset, health kit workout collector and health kit sleep collector.\n",
    "\n",
    "We can load as many studies as we like. Fow now let us load health kit workout collector data"
   ]
  },
  {
   "cell_type": "code",
   "execution_count": 7,
   "id": "2c7e39be",
   "metadata": {},
   "outputs": [],
   "source": [
    "#load a study\n",
    "MHC.loadStudy(studyName = 'HealthKitWorkoutCollector',studyTable = 'syn3560095')"
   ]
  },
  {
   "cell_type": "markdown",
   "id": "686ea510",
   "metadata": {},
   "source": [
    "A MHC object can hold multiple studies which can be accessed as MHC.Studies[i], where i is an index in the list of studies. The study name/ Table Name can be accessed as MHC.studies[0].StudyName and MHC.Studies[0].tableName respectively.<br>\n",
    "First observation in the study can be accessed as a list in MHC.studies[0].observations[1]<br>\n",
    "Let us try accessing a study..."
   ]
  },
  {
   "cell_type": "code",
   "execution_count": 18,
   "id": "3662b702",
   "metadata": {},
   "outputs": [
    {
     "name": "stdout",
     "output_type": "stream",
     "text": [
      "Study HealthKitWorkoutCollector is extracted from syn3560095 and has a total of 125766 observations.\n"
     ]
    }
   ],
   "source": [
    "print('Study '+MHC.Studies[0].studyName +' is extracted from '+MHC.Studies[0].studyTable +' and has a total of '+str(len(MHC.Studies[0].observations))+ ' observations.')"
   ]
  },
  {
   "cell_type": "markdown",
   "id": "7723cfb2",
   "metadata": {},
   "source": [
    "The data is synced with Synapse and Amazon Web Services at the call to MHC.start(), and each study is synced at the point of MHC.loadStudy. The data loaded is parsed, cleaned and ready for ML. Let us look at the first observation in the health kit workout collector study. "
   ]
  },
  {
   "cell_type": "code",
   "execution_count": 19,
   "id": "f0f3071c",
   "metadata": {},
   "outputs": [
    {
     "name": "stdout",
     "output_type": "stream",
     "text": [
      "recordId                              PkQPo4F7CxCXd32HcfGTHpkE\n",
      "appVersion                            version 2.4.1, build 926\n",
      "phoneInfo              Unknown iPhone [iPhone13,2]; iOS/15.2.1\n",
      "uploadDate                                          2022-02-05\n",
      "healthCode                be595b1c-fbad-42e6-8f77-e10ace28ac51\n",
      "externalId                                                 NaN\n",
      "dataGroups                                                 NaN\n",
      "createdOn                                        1644047761945\n",
      "createdOnTimeZone                                          NaN\n",
      "userSharingScope                     ALL_QUALIFIED_RESEARCHERS\n",
      "validationErrors                                           NaN\n",
      "substudyMemberships                          |cardiovascular=|\n",
      "dayInStudy                                              1882.0\n",
      "data.csv                                            87971663.0\n",
      "rawData                                             87971667.0\n",
      "rawMetadata                                         87971659.0\n",
      "Name: 125768_2425, dtype: object\n"
     ]
    }
   ],
   "source": [
    "print(MHC.Studies[0].observations[0])"
   ]
  },
  {
   "cell_type": "markdown",
   "id": "4faf5d4d",
   "metadata": {},
   "source": [
    "## Machine Learning example\n",
    "We will demonstrate a simplistic machine learning user case by predicting user gender using the heigh and weight. This simple model will not have good prediction power but server our purpose of demonstration. <br>\n",
    "\n",
    "First create input and labels"
   ]
  },
  {
   "cell_type": "code",
   "execution_count": 38,
   "id": "6618f8b4",
   "metadata": {},
   "outputs": [
    {
     "name": "stdout",
     "output_type": "stream",
     "text": [
      "Number of observations in data are 35047\n",
      "Gender distribution is Counter({1: 25912, 0: 9135})\n"
     ]
    }
   ],
   "source": [
    "#Features array\n",
    "inputs = []\n",
    "#Training/ testing labels\n",
    "labels = []\n",
    "\n",
    "#Algorithms use digits, so change female to 0 female to 1\n",
    "gender_dict = {}\n",
    "gender_dict['female'] = 0\n",
    "gender_dict['male'] = 1\n",
    "\n",
    "#loop through all users to get data. If we are using data from a study then we will need to extract user data from that study\n",
    "for user in MHC.Users:\n",
    "    #We can only train on data we know the labels for. \n",
    "    if user.gender.endswith('male') and user.weight>10 and user.height>10:\n",
    "        #create a feature vector of height and age\n",
    "        input_observation = []\n",
    "        input_observation.append(float(user.height))\n",
    "        input_observation.append(float(user.weight))\n",
    "        \n",
    "        #add to out data\n",
    "        inputs.append(input_observation)\n",
    "        labels.append(gender_dict[user.gender])\n",
    "\n",
    "import numpy as np\n",
    "from collections import Counter\n",
    "inputs = np.asarray(inputs)\n",
    "labels = np.asarray(labels)\n",
    "\n",
    "print('Number of observations in data are '+str(len(inputs)))\n",
    "print('Gender distribution is '+str(Counter(labels)))"
   ]
  },
  {
   "cell_type": "markdown",
   "id": "d2774d5e",
   "metadata": {},
   "source": [
    "Let us train a random forest algorithm on this data to see the accuracy."
   ]
  },
  {
   "cell_type": "code",
   "execution_count": 47,
   "id": "83d58290",
   "metadata": {},
   "outputs": [
    {
     "name": "stdout",
     "output_type": "stream",
     "text": [
      "Mean Accuracy over test samples is 0.8537956078160125\n"
     ]
    }
   ],
   "source": [
    "from sklearn.model_selection import train_test_split\n",
    "from sklearn.ensemble import RandomForestClassifier\n",
    "\n",
    "\n",
    "#first create a train test split\n",
    "X_train, X_test, y_train, y_test = train_test_split(inputs, labels, test_size=0.33, random_state=42)\n",
    "#initilize a random forest classifier\n",
    "clf = RandomForestClassifier(max_depth=2, random_state=0)\n",
    "#fit the data\n",
    "clf.fit(X_train, y_train)\n",
    "#test accuracy on test data\n",
    "meanAccuracy = clf.score(X_test,y_test)\n",
    "print('Mean Accuracy over test samples is '+str(meanAccuracy))"
   ]
  },
  {
   "cell_type": "markdown",
   "id": "e01c6f3a",
   "metadata": {},
   "source": [
    "This simplistic example trains a random forest using user height and weight to predict the gender. Using different studies we can fill in the missing values and combine tables to have fun!\n",
    "\n",
    "Best of luck!!!!!"
   ]
  }
 ],
 "metadata": {
  "kernelspec": {
   "display_name": "Python 3 (ipykernel)",
   "language": "python",
   "name": "python3"
  },
  "language_info": {
   "codemirror_mode": {
    "name": "ipython",
    "version": 3
   },
   "file_extension": ".py",
   "mimetype": "text/x-python",
   "name": "python",
   "nbconvert_exporter": "python",
   "pygments_lexer": "ipython3",
   "version": "3.9.7"
  }
 },
 "nbformat": 4,
 "nbformat_minor": 5
}
